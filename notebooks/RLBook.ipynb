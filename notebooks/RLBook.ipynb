{
 "cells": [
  {
   "cell_type": "markdown",
   "metadata": {},
   "source": [
    "### 2.3 The 10-armed Testbed"
   ]
  },
  {
   "cell_type": "code",
   "execution_count": 72,
   "metadata": {},
   "outputs": [
    {
     "name": "stdout",
     "output_type": "stream",
     "text": [
      "The best machine for this experiment is  3\n",
      "Create a bandit machine with true value:  1.764052345967664\n",
      "Create a bandit machine with true value:  0.4001572083672233\n",
      "Create a bandit machine with true value:  0.9787379841057392\n",
      "Create a bandit machine with true value:  2.240893199201458\n",
      "Create a bandit machine with true value:  1.8675579901499675\n",
      "Create a bandit machine with true value:  -0.977277879876411\n",
      "Create a bandit machine with true value:  0.9500884175255894\n",
      "Create a bandit machine with true value:  -0.1513572082976979\n",
      "Create a bandit machine with true value:  -0.10321885179355784\n",
      "Create a bandit machine with true value:  0.41059850193837233\n",
      "The best machine is 3 with expected reward 1.857216013357003\n"
     ]
    }
   ],
   "source": [
    "import numpy as np\n",
    "np.random.seed(0)\n",
    "\n",
    "class Bandit:\n",
    "    \"\"\"Bandit arm having true reward value determined by normal distribution\n",
    "    \"\"\"\n",
    "    def __init__(self, true_value):\n",
    "        print(\"Create a bandit machine with true value: \", true_value)\n",
    "        self.mean = true_value\n",
    "    \n",
    "    def play(self):\n",
    "        return np.random.normal(self.mean, 1)\n",
    "\n",
    "    \n",
    "def update_best(history, a, best):\n",
    "    new_score_a = sum(history[a])/len(history[a])\n",
    "    best_score = sum(history[best[0]])/len(history[best[0]])\n",
    "    if new_score_a > best_score:\n",
    "        return (a, new_score_a)\n",
    "    else:\n",
    "        return best\n",
    "\n",
    "# prepare bandit machines\n",
    "num_actions = 10\n",
    "bandits = []\n",
    "mean, sigma = 0, 1\n",
    "true_value = np.random.normal(mean, sigma, num_actions)\n",
    "print(\"The best machine for this experiment is \", np.argmax(true_value))\n",
    "for v in true_value:\n",
    "    bandits.append(Bandit(v))\n",
    "\n",
    "num_iteration = 1000\n",
    "epsilon = 0.1\n",
    "history = np.empty((10,0))\n",
    "history = []\n",
    "for i in range(num_actions):\n",
    "    history.append([])\n",
    "\n",
    "best = (0, -float('inf')) # maximum reward holder\n",
    "for i in range(num_iteration):\n",
    "\n",
    "    p = np.random.random()\n",
    "    if p < epsilon:\n",
    "        #explore\n",
    "        a = np.random.randint(num_actions)\n",
    "    else:\n",
    "        # exploit\n",
    "        a = best[0]\n",
    "    \n",
    "    reward = bandits[a].play()\n",
    "    #print(\"Selected #{} and got reward {}\".format(a, reward))\n",
    "    history[a].append(reward)\n",
    "    best = update_best(history, a, best)\n",
    "\n",
    "print(\"The best machine is {} with expected reward {}\".format(best[0], best[1]))"
   ]
  }
 ],
 "metadata": {
  "kernelspec": {
   "display_name": "Python 3",
   "language": "python",
   "name": "python3"
  },
  "language_info": {
   "codemirror_mode": {
    "name": "ipython",
    "version": 3
   },
   "file_extension": ".py",
   "mimetype": "text/x-python",
   "name": "python",
   "nbconvert_exporter": "python",
   "pygments_lexer": "ipython3",
   "version": "3.6.1"
  }
 },
 "nbformat": 4,
 "nbformat_minor": 2
}
